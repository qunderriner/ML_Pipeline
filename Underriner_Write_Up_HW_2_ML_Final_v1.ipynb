{
 "cells": [
  {
   "cell_type": "code",
   "execution_count": 12,
   "metadata": {},
   "outputs": [],
   "source": [
    "import pandas as pd\n",
    "import numpy as np \n",
    "from matplotlib import pyplot as plt\n",
    "from sklearn.linear_model import LogisticRegression\n",
    "from sklearn.metrics import confusion_matrix\n",
    "import seaborn as sns\n",
    "sns.set()"
   ]
  },
  {
   "cell_type": "code",
   "execution_count": 17,
   "metadata": {},
   "outputs": [],
   "source": [
    "import ml_pipeline\n",
    "filename = 'credit-data.csv'"
   ]
  },
  {
   "cell_type": "markdown",
   "metadata": {},
   "source": [
    "#### 1. Read Data "
   ]
  },
  {
   "cell_type": "code",
   "execution_count": 18,
   "metadata": {},
   "outputs": [],
   "source": [
    "df = ml_pipeline.load_data(filename)"
   ]
  },
  {
   "cell_type": "markdown",
   "metadata": {},
   "source": [
    "#### 2. ExploreData"
   ]
  },
  {
   "cell_type": "markdown",
   "metadata": {},
   "source": [
    "#### Basic overview of people in dataset \n"
   ]
  },
  {
   "cell_type": "code",
   "execution_count": 19,
   "metadata": {
    "scrolled": true
   },
   "outputs": [
    {
     "data": {
      "text/html": [
       "<div>\n",
       "<style scoped>\n",
       "    .dataframe tbody tr th:only-of-type {\n",
       "        vertical-align: middle;\n",
       "    }\n",
       "\n",
       "    .dataframe tbody tr th {\n",
       "        vertical-align: top;\n",
       "    }\n",
       "\n",
       "    .dataframe thead th {\n",
       "        text-align: right;\n",
       "    }\n",
       "</style>\n",
       "<table border=\"1\" class=\"dataframe\">\n",
       "  <thead>\n",
       "    <tr style=\"text-align: right;\">\n",
       "      <th></th>\n",
       "      <th>Average Age</th>\n",
       "      <th>Average Debt Ratio</th>\n",
       "      <th>Average Monthly Income</th>\n",
       "      <th>Average Outstanding Debt Divided by Credit Limit Sum</th>\n",
       "    </tr>\n",
       "  </thead>\n",
       "  <tbody>\n",
       "    <tr>\n",
       "      <th>0</th>\n",
       "      <td>51.68</td>\n",
       "      <td>331.46</td>\n",
       "      <td>6579.0</td>\n",
       "      <td>6.38</td>\n",
       "    </tr>\n",
       "  </tbody>\n",
       "</table>\n",
       "</div>"
      ],
      "text/plain": [
       "   Average Age  Average Debt Ratio  Average Monthly Income  \\\n",
       "0        51.68              331.46                  6579.0   \n",
       "\n",
       "   Average Outstanding Debt Divided by Credit Limit Sum  \n",
       "0                                               6.38     "
      ]
     },
     "execution_count": 19,
     "metadata": {},
     "output_type": "execute_result"
    }
   ],
   "source": [
    "overview = {'Average Age': df[\"age\"].mean(), 'Average Debt Ratio': df[\"DebtRatio\"].mean(),'Average Monthly Income': df[\"MonthlyIncome\"].mean(),\n",
    "           \"Average Outstanding Debt Divided by Credit Limit Sum\": [df[\"RevolvingUtilizationOfUnsecuredLines\"].mean()]}\n",
    "overview_df = pd.DataFrame(data=overview).round(2)\n",
    "overview_df\n",
    "\n"
   ]
  },
  {
   "cell_type": "markdown",
   "metadata": {},
   "source": [
    "#### What percentage of people default? \n",
    "#### 16 percent "
   ]
  },
  {
   "cell_type": "code",
   "execution_count": 20,
   "metadata": {},
   "outputs": [
    {
     "data": {
      "text/plain": [
       "0.1614004291008387"
      ]
     },
     "execution_count": 20,
     "metadata": {},
     "output_type": "execute_result"
    }
   ],
   "source": [
    "df.SeriousDlqin2yrs.mean()"
   ]
  },
  {
   "cell_type": "markdown",
   "metadata": {},
   "source": [
    "#### Find the average income in each zipcode in the dataset "
   ]
  },
  {
   "cell_type": "code",
   "execution_count": 21,
   "metadata": {},
   "outputs": [
    {
     "data": {
      "text/html": [
       "<div>\n",
       "<style scoped>\n",
       "    .dataframe tbody tr th:only-of-type {\n",
       "        vertical-align: middle;\n",
       "    }\n",
       "\n",
       "    .dataframe tbody tr th {\n",
       "        vertical-align: top;\n",
       "    }\n",
       "\n",
       "    .dataframe thead th {\n",
       "        text-align: right;\n",
       "    }\n",
       "</style>\n",
       "<table border=\"1\" class=\"dataframe\">\n",
       "  <thead>\n",
       "    <tr style=\"text-align: right;\">\n",
       "      <th></th>\n",
       "      <th>zipcode</th>\n",
       "      <th>MonthlyIncome</th>\n",
       "    </tr>\n",
       "  </thead>\n",
       "  <tbody>\n",
       "    <tr>\n",
       "      <th>0</th>\n",
       "      <td>60601</td>\n",
       "      <td>6939.74</td>\n",
       "    </tr>\n",
       "    <tr>\n",
       "      <th>1</th>\n",
       "      <td>60618</td>\n",
       "      <td>6414.65</td>\n",
       "    </tr>\n",
       "    <tr>\n",
       "      <th>2</th>\n",
       "      <td>60625</td>\n",
       "      <td>6506.11</td>\n",
       "    </tr>\n",
       "    <tr>\n",
       "      <th>3</th>\n",
       "      <td>60629</td>\n",
       "      <td>6437.08</td>\n",
       "    </tr>\n",
       "    <tr>\n",
       "      <th>4</th>\n",
       "      <td>60637</td>\n",
       "      <td>6389.54</td>\n",
       "    </tr>\n",
       "    <tr>\n",
       "      <th>5</th>\n",
       "      <td>60644</td>\n",
       "      <td>7274.66</td>\n",
       "    </tr>\n",
       "  </tbody>\n",
       "</table>\n",
       "</div>"
      ],
      "text/plain": [
       "   zipcode  MonthlyIncome\n",
       "0    60601        6939.74\n",
       "1    60618        6414.65\n",
       "2    60625        6506.11\n",
       "3    60629        6437.08\n",
       "4    60637        6389.54\n",
       "5    60644        7274.66"
      ]
     },
     "execution_count": 21,
     "metadata": {},
     "output_type": "execute_result"
    }
   ],
   "source": [
    "col_names = 'MonthlyIncome'\n",
    "zip_col_name = \"zipcode\"\n",
    "ml_pipeline.per_zip(df, col_names, zip_col_name)"
   ]
  },
  {
   "cell_type": "markdown",
   "metadata": {},
   "source": [
    "#### This makes a histogram of the data and then looks at the percentage of the data above a certain threshold. While most people have a small number of lines of credit open, 28 percent of people have more than 10. 2.6 percent have more than 20."
   ]
  },
  {
   "cell_type": "code",
   "execution_count": 22,
   "metadata": {},
   "outputs": [
    {
     "name": "stdout",
     "output_type": "stream",
     "text": [
      "0.28657109420713867\n",
      "0.026477472205968404\n"
     ]
    },
    {
     "data": {
      "image/png": "[encoded data removed]",
      "text/plain": [
       "<Figure size 432x288 with 1 Axes>"
      ]
     },
     "metadata": {},
     "output_type": "display_data"
    }
   ],
   "source": [
    "df.NumberOfOpenCreditLinesAndLoans.hist(bins=5)\n",
    "\n",
    "ml_pipeline.percentage_calc(df, \"NumberOfOpenCreditLinesAndLoans\", 10)\n",
    "ml_pipeline.percentage_calc(df, \"NumberOfOpenCreditLinesAndLoans\", 20)"
   ]
  },
  {
   "cell_type": "markdown",
   "metadata": {},
   "source": [
    "#### Here I'm checking the features for correlation. From this we can see that, as one would imagine, there is high correlation between NumberOfTimes90DaysLate and NumberOfTime60-89DaysPastDueNotWorse. This makes sense as people that are say 35 days late on a payment are also very likely to be 90 days late on a payment. There is also moderatly high correlation between NumberOfOpenCreditLinesAndLoans and NumberRealEstateLoansOrLines, which also makes intuitive sense as both measure number of open lines of credit. None of these are problomatic for the model used in this assignment, however. \n",
    "\n",
    "\n",
    "\n",
    "\n",
    "\n"
   ]
  },
  {
   "cell_type": "code",
   "execution_count": 31,
   "metadata": {},
   "outputs": [
    {
     "data": {
      "image/png": "[encoded data removed]",
      "text/plain": [
       "<Figure size 432x288 with 2 Axes>"
      ]
     },
     "metadata": {},
     "output_type": "display_data"
    }
   ],
   "source": [
    "ml_pipeline.find_corr(df)"
   ]
  },
  {
   "cell_type": "markdown",
   "metadata": {},
   "source": [
    "#### 3. Pre-ProcessData:"
   ]
  },
  {
   "cell_type": "markdown",
   "metadata": {},
   "source": [
    "#### Next, I find  which collumns have missing values and imputes NaN values with the mean or median values depending on what is appropriate. For income, \n",
    "#### The mean is intuitively appropriate for income, but for number of dependents we want to use median for the simple reason that one cannot pysically have, say, 2.3 children. "
   ]
  },
  {
   "cell_type": "code",
   "execution_count": 23,
   "metadata": {},
   "outputs": [
    {
     "data": {
      "text/plain": [
       "['MonthlyIncome', 'NumberOfDependents']"
      ]
     },
     "execution_count": 23,
     "metadata": {},
     "output_type": "execute_result"
    }
   ],
   "source": [
    "#find out which columns have missing values\n",
    "df.columns[df.isna().any()].tolist()"
   ]
  },
  {
   "cell_type": "code",
   "execution_count": 24,
   "metadata": {},
   "outputs": [],
   "source": [
    "df = ml_pipeline.impute(df, ['MonthlyIncome'], ['NumberOfDependents'])"
   ]
  },
  {
   "cell_type": "markdown",
   "metadata": {},
   "source": [
    "#### 4. GenerateFeatures/Predictors:"
   ]
  },
  {
   "cell_type": "markdown",
   "metadata": {},
   "source": [
    "#### We want to create dummmy variables for each zipcode as we wouldnt want the fact that they are  numeric to be interpreted by our model in unforseen ways. \n",
    "\n",
    "\n"
   ]
  },
  {
   "cell_type": "code",
   "execution_count": 25,
   "metadata": {},
   "outputs": [],
   "source": [
    "df = ml_pipeline.dummy(df, 'zipcode')"
   ]
  },
  {
   "cell_type": "markdown",
   "metadata": {},
   "source": [
    "#### For some continous variables it can be useful to discretize them into buckets. I chose to do four here, which (for example) when used on Monthly Income, would represent, low income, low-medium income, high-medium income, and high income groups of people. "
   ]
  },
  {
   "cell_type": "code",
   "execution_count": 26,
   "metadata": {},
   "outputs": [],
   "source": [
    "df = ml_pipeline.discretize(df, 'DebtRatio')\n",
    "df = ml_pipeline.discretize(df, 'MonthlyIncome')"
   ]
  },
  {
   "cell_type": "markdown",
   "metadata": {},
   "source": [
    "#### 5. BuildClassifier"
   ]
  },
  {
   "cell_type": "markdown",
   "metadata": {},
   "source": [
    "#### Creating a list of the feautures to put into the model, so leaving out the Y value SeriousDlqin2yrs, a persons unique id as that would give us a very overfitted model."
   ]
  },
  {
   "cell_type": "code",
   "execution_count": 27,
   "metadata": {},
   "outputs": [],
   "source": [
    "features = [x for x in df.columns if x not in ['SeriousDlqin2yrs', 'PersonID']]\n"
   ]
  },
  {
   "cell_type": "markdown",
   "metadata": {},
   "source": [
    "#### Create data arrays for the X and Y values needed to be plugged into the model and train the logistic regression model. "
   ]
  },
  {
   "cell_type": "code",
   "execution_count": 31,
   "metadata": {},
   "outputs": [],
   "source": [
    "X, y = ml_pipeline.get_xy(df, 'SeriousDlqin2yrs', features)\n"
   ]
  },
  {
   "cell_type": "markdown",
   "metadata": {},
   "source": [
    "#### 6. Evaluate Classifier"
   ]
  },
  {
   "cell_type": "markdown",
   "metadata": {},
   "source": [
    "#### Finally, print the accurancy, which the percentage of predictions that the model actually got correct. In this case its 85 percent. "
   ]
  },
  {
   "cell_type": "code",
   "execution_count": 46,
   "metadata": {},
   "outputs": [
    {
     "name": "stdout",
     "output_type": "stream",
     "text": [
      "0.8514238346011312\n"
     ]
    }
   ],
   "source": [
    "lg = ml_pipeline.classify_lgreg(X,y)\n",
    "print(ml_pipeline.accuracy(y, lg.predict(X)))"
   ]
  },
  {
   "cell_type": "markdown",
   "metadata": {},
   "source": [
    "#### I know that accuracy is not a perfect indicator of the predicitve quality of a model so I also created a confusion matrix. The results show that the model predicted true positive values 34155 times, false positive values 241. It produced false negatives 5853 times and true negatives 767 times. The model has a precison rate of 76 percent, meaning it correctly predicts default 76 percent of the time. The model has a recall rate of 1.9 percent, meaning that it identifies 1.9 percent of the defaults. There is a wide discrepency between the effcicay of the model as measured by accuracy and as measured through precision and recall because the number of positives is very low relative to the sample size. \n",
    "\n"
   ]
  },
  {
   "cell_type": "code",
   "execution_count": 34,
   "metadata": {
    "scrolled": true
   },
   "outputs": [
    {
     "name": "stdout",
     "output_type": "stream",
     "text": [
      "[[34155   241]\n",
      " [ 5853   767]]\n"
     ]
    }
   ],
   "source": [
    "confusion = confusion_matrix(y, lg.predict(X))\n",
    "print(confusion)"
   ]
  },
  {
   "cell_type": "code",
   "execution_count": 48,
   "metadata": {
    "scrolled": false
   },
   "outputs": [
    {
     "name": "stdout",
     "output_type": "stream",
     "text": [
      "Precision =  0.7609126984126984\n",
      "Recall =  0.019171165766846632\n"
     ]
    }
   ],
   "source": [
    "precision = confusion[1][1]/(confusion[1][1] + confusion[0][1])\n",
    "print(\"Precision = \", precision)\n",
    "Recall = confusion[1][1]/(confusion[0][0] + confusion[1][0])\n",
    "print(\"Recall = \", Recall)"
   ]
  },
  {
   "cell_type": "markdown",
   "metadata": {},
   "source": [
    "#### In this data analysis I built a simple model to predict the risk of default in a 2 year period. I did basic processing and exploration of the data. In future versions, there could be more careful feature selection (as shown above multiple features are highly correlated). Further, as the models recall is so low its likely that there would be better models for the shape of this data.\n",
    "\n"
   ]
  }
 ],
 "metadata": {
  "kernelspec": {
   "display_name": "Python 3",
   "language": "python",
   "name": "python3"
  },
  "language_info": {
   "codemirror_mode": {
    "name": "ipython",
    "version": 3
   },
   "file_extension": ".py",
   "mimetype": "text/x-python",
   "name": "python",
   "nbconvert_exporter": "python",
   "pygments_lexer": "ipython3",
   "version": "3.7.2"
  }
 },
 "nbformat": 4,
 "nbformat_minor": 2
}
